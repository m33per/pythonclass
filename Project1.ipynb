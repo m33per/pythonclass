{
 "cells": [
  {
   "cell_type": "code",
   "execution_count": 2,
   "metadata": {},
   "outputs": [
    {
     "data": {
      "text/html": [
       "<div>\n",
       "<style scoped>\n",
       "    .dataframe tbody tr th:only-of-type {\n",
       "        vertical-align: middle;\n",
       "    }\n",
       "\n",
       "    .dataframe tbody tr th {\n",
       "        vertical-align: top;\n",
       "    }\n",
       "\n",
       "    .dataframe thead th {\n",
       "        text-align: right;\n",
       "    }\n",
       "</style>\n",
       "<table border=\"1\" class=\"dataframe\">\n",
       "  <thead>\n",
       "    <tr style=\"text-align: right;\">\n",
       "      <th></th>\n",
       "      <th>gender</th>\n",
       "      <th>race/ethnicity</th>\n",
       "      <th>parental level of education</th>\n",
       "      <th>lunch</th>\n",
       "      <th>test preparation course</th>\n",
       "      <th>math score</th>\n",
       "      <th>reading score</th>\n",
       "      <th>writing score</th>\n",
       "    </tr>\n",
       "  </thead>\n",
       "  <tbody>\n",
       "    <tr>\n",
       "      <th>0</th>\n",
       "      <td>female</td>\n",
       "      <td>group B</td>\n",
       "      <td>bachelor's degree</td>\n",
       "      <td>standard</td>\n",
       "      <td>none</td>\n",
       "      <td>72</td>\n",
       "      <td>72</td>\n",
       "      <td>74</td>\n",
       "    </tr>\n",
       "    <tr>\n",
       "      <th>1</th>\n",
       "      <td>female</td>\n",
       "      <td>group C</td>\n",
       "      <td>some college</td>\n",
       "      <td>standard</td>\n",
       "      <td>completed</td>\n",
       "      <td>69</td>\n",
       "      <td>90</td>\n",
       "      <td>88</td>\n",
       "    </tr>\n",
       "    <tr>\n",
       "      <th>2</th>\n",
       "      <td>female</td>\n",
       "      <td>group B</td>\n",
       "      <td>master's degree</td>\n",
       "      <td>standard</td>\n",
       "      <td>none</td>\n",
       "      <td>90</td>\n",
       "      <td>95</td>\n",
       "      <td>93</td>\n",
       "    </tr>\n",
       "    <tr>\n",
       "      <th>3</th>\n",
       "      <td>male</td>\n",
       "      <td>group A</td>\n",
       "      <td>associate's degree</td>\n",
       "      <td>free/reduced</td>\n",
       "      <td>none</td>\n",
       "      <td>47</td>\n",
       "      <td>57</td>\n",
       "      <td>44</td>\n",
       "    </tr>\n",
       "    <tr>\n",
       "      <th>4</th>\n",
       "      <td>male</td>\n",
       "      <td>group C</td>\n",
       "      <td>some college</td>\n",
       "      <td>standard</td>\n",
       "      <td>none</td>\n",
       "      <td>76</td>\n",
       "      <td>78</td>\n",
       "      <td>75</td>\n",
       "    </tr>\n",
       "  </tbody>\n",
       "</table>\n",
       "</div>"
      ],
      "text/plain": [
       "   gender race/ethnicity parental level of education         lunch  \\\n",
       "0  female        group B           bachelor's degree      standard   \n",
       "1  female        group C                some college      standard   \n",
       "2  female        group B             master's degree      standard   \n",
       "3    male        group A          associate's degree  free/reduced   \n",
       "4    male        group C                some college      standard   \n",
       "\n",
       "  test preparation course  math score  reading score  writing score  \n",
       "0                    none          72             72             74  \n",
       "1               completed          69             90             88  \n",
       "2                    none          90             95             93  \n",
       "3                    none          47             57             44  \n",
       "4                    none          76             78             75  "
      ]
     },
     "execution_count": 2,
     "metadata": {},
     "output_type": "execute_result"
    }
   ],
   "source": [
    "import pandas as pd\n",
    "students = pd.read_csv('StudentsPerformance.csv')\n",
    "students.head()"
   ]
  },
  {
   "cell_type": "markdown",
   "metadata": {},
   "source": [
    "This is just a sample of what the dataset looks like."
   ]
  },
  {
   "cell_type": "code",
   "execution_count": 114,
   "metadata": {},
   "outputs": [
    {
     "data": {
      "text/html": [
       "<div>\n",
       "<style scoped>\n",
       "    .dataframe tbody tr th:only-of-type {\n",
       "        vertical-align: middle;\n",
       "    }\n",
       "\n",
       "    .dataframe tbody tr th {\n",
       "        vertical-align: top;\n",
       "    }\n",
       "\n",
       "    .dataframe thead th {\n",
       "        text-align: right;\n",
       "    }\n",
       "</style>\n",
       "<table border=\"1\" class=\"dataframe\">\n",
       "  <thead>\n",
       "    <tr style=\"text-align: right;\">\n",
       "      <th></th>\n",
       "      <th>math score</th>\n",
       "      <th>reading score</th>\n",
       "      <th>writing score</th>\n",
       "      <th>avg_score</th>\n",
       "    </tr>\n",
       "    <tr>\n",
       "      <th>gender</th>\n",
       "      <th></th>\n",
       "      <th></th>\n",
       "      <th></th>\n",
       "      <th></th>\n",
       "    </tr>\n",
       "  </thead>\n",
       "  <tbody>\n",
       "    <tr>\n",
       "      <th>female</th>\n",
       "      <td>63.63</td>\n",
       "      <td>72.61</td>\n",
       "      <td>72.47</td>\n",
       "      <td>69.57</td>\n",
       "    </tr>\n",
       "    <tr>\n",
       "      <th>male</th>\n",
       "      <td>68.73</td>\n",
       "      <td>65.47</td>\n",
       "      <td>63.31</td>\n",
       "      <td>65.84</td>\n",
       "    </tr>\n",
       "  </tbody>\n",
       "</table>\n",
       "</div>"
      ],
      "text/plain": [
       "        math score  reading score  writing score  avg_score\n",
       "gender                                                     \n",
       "female       63.63          72.61          72.47      69.57\n",
       "male         68.73          65.47          63.31      65.84"
      ]
     },
     "execution_count": 114,
     "metadata": {},
     "output_type": "execute_result"
    }
   ],
   "source": [
    "gender_avg_scores = round(students.groupby(\"gender\").agg({\"math score\": \"mean\", \"reading score\": \"mean\",\n",
    "                                                    \"writing score\": \"mean\"}), 2)\n",
    "gender_avg_scores[\"avg_score\"] = round((gender_avg_scores.sum(axis=1)) / 3, 2)\n",
    "gender_avg_scores"
   ]
  },
  {
   "cell_type": "markdown",
   "metadata": {},
   "source": [
    "When I saw that the data had a column giving the gender of the student, I couldn't help but compare the\n",
    "scores. So apparently, males are better at math than females. But females are better at reading and writing,\n",
    "and they also have a better average score overall. :p"
   ]
  },
  {
   "cell_type": "code",
   "execution_count": 115,
   "metadata": {},
   "outputs": [
    {
     "data": {
      "text/html": [
       "<div>\n",
       "<style scoped>\n",
       "    .dataframe tbody tr th:only-of-type {\n",
       "        vertical-align: middle;\n",
       "    }\n",
       "\n",
       "    .dataframe tbody tr th {\n",
       "        vertical-align: top;\n",
       "    }\n",
       "\n",
       "    .dataframe thead th {\n",
       "        text-align: right;\n",
       "    }\n",
       "</style>\n",
       "<table border=\"1\" class=\"dataframe\">\n",
       "  <thead>\n",
       "    <tr style=\"text-align: right;\">\n",
       "      <th></th>\n",
       "      <th>math score</th>\n",
       "      <th>reading score</th>\n",
       "      <th>writing score</th>\n",
       "      <th>avg_score</th>\n",
       "    </tr>\n",
       "    <tr>\n",
       "      <th>test preparation course</th>\n",
       "      <th></th>\n",
       "      <th></th>\n",
       "      <th></th>\n",
       "      <th></th>\n",
       "    </tr>\n",
       "  </thead>\n",
       "  <tbody>\n",
       "    <tr>\n",
       "      <th>completed</th>\n",
       "      <td>69.70</td>\n",
       "      <td>73.89</td>\n",
       "      <td>74.42</td>\n",
       "      <td>72.67</td>\n",
       "    </tr>\n",
       "    <tr>\n",
       "      <th>none</th>\n",
       "      <td>64.08</td>\n",
       "      <td>66.53</td>\n",
       "      <td>64.50</td>\n",
       "      <td>65.04</td>\n",
       "    </tr>\n",
       "  </tbody>\n",
       "</table>\n",
       "</div>"
      ],
      "text/plain": [
       "                         math score  reading score  writing score  avg_score\n",
       "test preparation course                                                     \n",
       "completed                     69.70          73.89          74.42      72.67\n",
       "none                          64.08          66.53          64.50      65.04"
      ]
     },
     "execution_count": 115,
     "metadata": {},
     "output_type": "execute_result"
    }
   ],
   "source": [
    "prep_scores = round(students.groupby(\"test preparation course\").agg({\"math score\": \"mean\", \"reading score\": \"mean\",\n",
    "                                                              \"writing score\": \"mean\"}), 2)\n",
    "prep_scores[\"avg_score\"] = round((prep_scores.sum(axis=1)) / 3, 2)\n",
    "prep_scores"
   ]
  },
  {
   "cell_type": "markdown",
   "metadata": {},
   "source": [
    "Proof that you should always study for tests."
   ]
  },
  {
   "cell_type": "code",
   "execution_count": 176,
   "metadata": {},
   "outputs": [
    {
     "name": "stdout",
     "output_type": "stream",
     "text": [
      "Number of students who took test preparation course and have scores over 90:\t\t 17\n",
      "Number of students who did not take test preparation course and have scores over 90:\t 11\n"
     ]
    }
   ],
   "source": [
    "tpc_goodScores = students.query(\"`test preparation course` == 'completed' and `math score` >= 90 and `reading score` >= 90 and `writing score` >= 90\")\n",
    "NOtpc_goodScores = students.query(\"`test preparation course` == 'none' and `math score` >= 90 and `reading score` >= 90 and `writing score` >= 90\")\n",
    "print(\"Number of students who took test preparation course and have scores over 90:\\t\\t\", len(tpc_goodScores))\n",
    "print(\"Number of students who did not take test preparation course and have scores over 90:\\t\", len(NOtpc_goodScores))"
   ]
  },
  {
   "cell_type": "markdown",
   "metadata": {},
   "source": [
    "More proof that you should always study for tests."
   ]
  },
  {
   "cell_type": "code",
   "execution_count": 112,
   "metadata": {},
   "outputs": [
    {
     "data": {
      "text/html": [
       "<div>\n",
       "<style scoped>\n",
       "    .dataframe tbody tr th:only-of-type {\n",
       "        vertical-align: middle;\n",
       "    }\n",
       "\n",
       "    .dataframe tbody tr th {\n",
       "        vertical-align: top;\n",
       "    }\n",
       "\n",
       "    .dataframe thead th {\n",
       "        text-align: right;\n",
       "    }\n",
       "</style>\n",
       "<table border=\"1\" class=\"dataframe\">\n",
       "  <thead>\n",
       "    <tr style=\"text-align: right;\">\n",
       "      <th></th>\n",
       "      <th>num_standard</th>\n",
       "      <th>num_free/reduced</th>\n",
       "    </tr>\n",
       "    <tr>\n",
       "      <th>parental level of education</th>\n",
       "      <th></th>\n",
       "      <th></th>\n",
       "    </tr>\n",
       "  </thead>\n",
       "  <tbody>\n",
       "    <tr>\n",
       "      <th>associate's degree</th>\n",
       "      <td>145</td>\n",
       "      <td>77</td>\n",
       "    </tr>\n",
       "    <tr>\n",
       "      <th>bachelor's degree</th>\n",
       "      <td>74</td>\n",
       "      <td>44</td>\n",
       "    </tr>\n",
       "    <tr>\n",
       "      <th>high school</th>\n",
       "      <td>126</td>\n",
       "      <td>70</td>\n",
       "    </tr>\n",
       "    <tr>\n",
       "      <th>master's degree</th>\n",
       "      <td>35</td>\n",
       "      <td>24</td>\n",
       "    </tr>\n",
       "    <tr>\n",
       "      <th>some college</th>\n",
       "      <td>147</td>\n",
       "      <td>79</td>\n",
       "    </tr>\n",
       "    <tr>\n",
       "      <th>some high school</th>\n",
       "      <td>118</td>\n",
       "      <td>61</td>\n",
       "    </tr>\n",
       "  </tbody>\n",
       "</table>\n",
       "</div>"
      ],
      "text/plain": [
       "                             num_standard  num_free/reduced\n",
       "parental level of education                                \n",
       "associate's degree                    145                77\n",
       "bachelor's degree                      74                44\n",
       "high school                           126                70\n",
       "master's degree                        35                24\n",
       "some college                          147                79\n",
       "some high school                      118                61"
      ]
     },
     "execution_count": 112,
     "metadata": {},
     "output_type": "execute_result"
    }
   ],
   "source": [
    "par_lunch = students.groupby('parental level of education').agg({'lunch': 'sum'})\n",
    "standard = par_lunch['lunch'].str.count('standard')\n",
    "free_r = par_lunch['lunch'].str.count('free/reduced')\n",
    "par_lunch['num_standard'] = standard\n",
    "par_lunch['num_free/reduced'] = free_r\n",
    "del par_lunch['lunch']\n",
    "par_lunch"
   ]
  },
  {
   "cell_type": "markdown",
   "metadata": {},
   "source": [
    "I don't actually fully know what all of those degree levels mean, but from the little\n",
    "I do know, I was expecting there to be less free/reduced lunches in the master's\n",
    "degree category."
   ]
  },
  {
   "cell_type": "code",
   "execution_count": 186,
   "metadata": {},
   "outputs": [
    {
     "data": {
      "text/html": [
       "<div>\n",
       "<style scoped>\n",
       "    .dataframe tbody tr th:only-of-type {\n",
       "        vertical-align: middle;\n",
       "    }\n",
       "\n",
       "    .dataframe tbody tr th {\n",
       "        vertical-align: top;\n",
       "    }\n",
       "\n",
       "    .dataframe thead th {\n",
       "        text-align: right;\n",
       "    }\n",
       "</style>\n",
       "<table border=\"1\" class=\"dataframe\">\n",
       "  <thead>\n",
       "    <tr style=\"text-align: right;\">\n",
       "      <th></th>\n",
       "      <th>math score</th>\n",
       "      <th>reading score</th>\n",
       "      <th>writing score</th>\n",
       "    </tr>\n",
       "    <tr>\n",
       "      <th>race/ethnicity</th>\n",
       "      <th></th>\n",
       "      <th></th>\n",
       "      <th></th>\n",
       "    </tr>\n",
       "  </thead>\n",
       "  <tbody>\n",
       "    <tr>\n",
       "      <th>group A</th>\n",
       "      <td>61.63</td>\n",
       "      <td>64.67</td>\n",
       "      <td>62.67</td>\n",
       "    </tr>\n",
       "    <tr>\n",
       "      <th>group B</th>\n",
       "      <td>63.45</td>\n",
       "      <td>67.35</td>\n",
       "      <td>65.60</td>\n",
       "    </tr>\n",
       "    <tr>\n",
       "      <th>group C</th>\n",
       "      <td>64.46</td>\n",
       "      <td>69.10</td>\n",
       "      <td>67.83</td>\n",
       "    </tr>\n",
       "    <tr>\n",
       "      <th>group D</th>\n",
       "      <td>67.36</td>\n",
       "      <td>70.03</td>\n",
       "      <td>70.15</td>\n",
       "    </tr>\n",
       "    <tr>\n",
       "      <th>group E</th>\n",
       "      <td>73.82</td>\n",
       "      <td>73.03</td>\n",
       "      <td>71.41</td>\n",
       "    </tr>\n",
       "  </tbody>\n",
       "</table>\n",
       "</div>"
      ],
      "text/plain": [
       "                math score  reading score  writing score\n",
       "race/ethnicity                                          \n",
       "group A              61.63          64.67          62.67\n",
       "group B              63.45          67.35          65.60\n",
       "group C              64.46          69.10          67.83\n",
       "group D              67.36          70.03          70.15\n",
       "group E              73.82          73.03          71.41"
      ]
     },
     "execution_count": 186,
     "metadata": {},
     "output_type": "execute_result"
    }
   ],
   "source": [
    "all_avg = round(students.groupby('race/ethnicity').agg({\"math score\": \"mean\", \"reading score\": \"mean\",\n",
    "                                                  \"writing score\": \"mean\"}), 2)\n",
    "all_avg"
   ]
  },
  {
   "cell_type": "markdown",
   "metadata": {},
   "source": [
    "So... race affects your scores. I don't think that's a coincedence."
   ]
  },
  {
   "cell_type": "code",
   "execution_count": 157,
   "metadata": {},
   "outputs": [
    {
     "name": "stdout",
     "output_type": "stream",
     "text": [
      "Highest math score:\t 100\n",
      "Highest reading score:\t 100\n",
      "Highest writing score:\t 100\n",
      "Lowest math score:\t 0\n",
      "Lowest reading score:\t 17\n",
      "Lowest writing score:\t 10\n"
     ]
    }
   ],
   "source": [
    "print(\"Highest math score:\\t\", students['math score'].max())\n",
    "print(\"Highest reading score:\\t\", students['reading score'].max())\n",
    "print(\"Highest writing score:\\t\", students['writing score'].max())\n",
    "print(\"Lowest math score:\\t\", students['math score'].min())\n",
    "print(\"Lowest reading score:\\t\", students['reading score'].min())\n",
    "print(\"Lowest writing score:\\t\", students['writing score'].min())"
   ]
  },
  {
   "cell_type": "markdown",
   "metadata": {},
   "source": [
    "That's surprising. I expected all the lowest scores to be 0."
   ]
  },
  {
   "cell_type": "code",
   "execution_count": 185,
   "metadata": {},
   "outputs": [
    {
     "name": "stdout",
     "output_type": "stream",
     "text": [
      "Number of students with all 100s:\t 3\n",
      "Number of students total:\t\t 1000\n",
      "Percent of students with all 100s:\t 0.003\n"
     ]
    },
    {
     "data": {
      "text/html": [
       "<div>\n",
       "<style scoped>\n",
       "    .dataframe tbody tr th:only-of-type {\n",
       "        vertical-align: middle;\n",
       "    }\n",
       "\n",
       "    .dataframe tbody tr th {\n",
       "        vertical-align: top;\n",
       "    }\n",
       "\n",
       "    .dataframe thead th {\n",
       "        text-align: right;\n",
       "    }\n",
       "</style>\n",
       "<table border=\"1\" class=\"dataframe\">\n",
       "  <thead>\n",
       "    <tr style=\"text-align: right;\">\n",
       "      <th></th>\n",
       "      <th>gender</th>\n",
       "      <th>race/ethnicity</th>\n",
       "      <th>parental level of education</th>\n",
       "      <th>lunch</th>\n",
       "      <th>test preparation course</th>\n",
       "      <th>math score</th>\n",
       "      <th>reading score</th>\n",
       "      <th>writing score</th>\n",
       "    </tr>\n",
       "  </thead>\n",
       "  <tbody>\n",
       "    <tr>\n",
       "      <th>458</th>\n",
       "      <td>female</td>\n",
       "      <td>group E</td>\n",
       "      <td>bachelor's degree</td>\n",
       "      <td>standard</td>\n",
       "      <td>none</td>\n",
       "      <td>100</td>\n",
       "      <td>100</td>\n",
       "      <td>100</td>\n",
       "    </tr>\n",
       "    <tr>\n",
       "      <th>916</th>\n",
       "      <td>male</td>\n",
       "      <td>group E</td>\n",
       "      <td>bachelor's degree</td>\n",
       "      <td>standard</td>\n",
       "      <td>completed</td>\n",
       "      <td>100</td>\n",
       "      <td>100</td>\n",
       "      <td>100</td>\n",
       "    </tr>\n",
       "    <tr>\n",
       "      <th>962</th>\n",
       "      <td>female</td>\n",
       "      <td>group E</td>\n",
       "      <td>associate's degree</td>\n",
       "      <td>standard</td>\n",
       "      <td>none</td>\n",
       "      <td>100</td>\n",
       "      <td>100</td>\n",
       "      <td>100</td>\n",
       "    </tr>\n",
       "  </tbody>\n",
       "</table>\n",
       "</div>"
      ],
      "text/plain": [
       "     gender race/ethnicity parental level of education     lunch  \\\n",
       "458  female        group E           bachelor's degree  standard   \n",
       "916    male        group E           bachelor's degree  standard   \n",
       "962  female        group E          associate's degree  standard   \n",
       "\n",
       "    test preparation course  math score  reading score  writing score  \n",
       "458                    none         100            100            100  \n",
       "916               completed         100            100            100  \n",
       "962                    none         100            100            100  "
      ]
     },
     "execution_count": 185,
     "metadata": {},
     "output_type": "execute_result"
    }
   ],
   "source": [
    "allFull = students.query(\"`math score` == 100 and `reading score` == 100 and `writing score` == 100\")\n",
    "print(\"Number of students with all 100s:\\t\", len(allFull))\n",
    "print(\"Number of students total:\\t\\t\", len(students))\n",
    "print(\"Percent of students with all 100s:\\t\", len(allFull) / len(students))\n",
    "allFull"
   ]
  },
  {
   "cell_type": "markdown",
   "metadata": {},
   "source": [
    "Wow, that's SUPER impressive. And two of them didn't even complete a test preparation course!\n",
    "But they're all in the same race/ethnicity group..."
   ]
  },
  {
   "cell_type": "code",
   "execution_count": 187,
   "metadata": {},
   "outputs": [
    {
     "data": {
      "image/png": "[encoded data removed]",
      "text/plain": [
       "<Figure size 432x288 with 1 Axes>"
      ]
     },
     "metadata": {
      "needs_background": "light"
     },
     "output_type": "display_data"
    }
   ],
   "source": [
    "import matplotlib.pyplot as plt\n",
    "import numpy as np\n",
    "\n",
    "ws = []\n",
    "rs = []\n",
    "\n",
    "for i in range(len(students)):\n",
    "    if i % 10 == 0:\n",
    "        ws.append(students['writing score'][i])\n",
    "        rs.append(students['reading score'][i])\n",
    "\n",
    "scatter_wrs = plt.scatter(rs, ws)\n",
    "plt.ylabel('Writing Score')\n",
    "plt.xlabel('Reading Score')\n",
    "plt.title('Reading Scores vs Writing Scores')\n",
    "plt.plot(np.unique(rs), np.poly1d(np.polyfit(rs, ws, 1))(np.unique(rs)))\n",
    "ax = plt.gca()\n",
    "ax.set_facecolor('#999999')"
   ]
  },
  {
   "cell_type": "markdown",
   "metadata": {},
   "source": [
    "To all you non-readers out there, it looks like you're going to flunk two tests\n",
    "instead of one!"
   ]
  },
  {
   "cell_type": "markdown",
   "metadata": {},
   "source": [
    "END OF PRESENTABLE STUFF"
   ]
  },
  {
   "cell_type": "markdown",
   "metadata": {},
   "source": [
    "Below are failed attempts at graphs. I excluded them when I presented."
   ]
  },
  {
   "cell_type": "code",
   "execution_count": 133,
   "metadata": {},
   "outputs": [
    {
     "data": {
      "image/png": "[encoded data removed]",
      "text/plain": [
       "<Figure size 432x288 with 1 Axes>"
      ]
     },
     "metadata": {
      "needs_background": "light"
     },
     "output_type": "display_data"
    }
   ],
   "source": [
    "import matplotlib.pyplot as plt\n",
    "\n",
    "all_avg = students.groupby('race/ethnicity').agg({\"math score\": \"mean\", \"reading score\": \"mean\",\n",
    "                                                  \"writing score\": \"mean\"})\n",
    "all_avg['avg'] = round((all_avg.sum(axis=1)) / 3, 3)\n",
    "gA = all_avg.loc['group A', 'avg']\n",
    "gB = all_avg.loc['group B', 'avg']\n",
    "gC = all_avg.loc['group C', 'avg']\n",
    "gD = all_avg.loc['group D', 'avg']\n",
    "gE = all_avg.loc['group E', 'avg']\n",
    "data = [gA, gB, gC, gD, gE]\n",
    "#bins = ['Group A', 'Group B', 'Group C', 'Group D', 'Group E']\n",
    "#bins = [1, 2, 3, 4, 5]\n",
    "\n",
    "plt.hist(data, bins=5, color='#0000ff', edgecolor='w')\n",
    "#plt.ylabel('Race/Ethnicity Group')\n",
    "plt.xlabel('Average Score')\n",
    "plt.title('Race vs Average Score')\n",
    "#plt.xlim(60, 80)\n",
    "\n",
    "ax = plt.gca()\n",
    "ax.set_facecolor('#000000')\n",
    "plt.show()"
   ]
  },
  {
   "cell_type": "code",
   "execution_count": 85,
   "metadata": {},
   "outputs": [
    {
     "data": {
      "image/png": "[encoded data removed]",
      "text/plain": [
       "<Figure size 432x288 with 1 Axes>"
      ]
     },
     "metadata": {},
     "output_type": "display_data"
    }
   ],
   "source": [
    "labels = 'group A', 'group B', 'group C', 'group D', 'group E'\n",
    "gA = all_avg.loc['group A', 'avg']\n",
    "gB = all_avg.loc['group B', 'avg']\n",
    "gC = all_avg.loc['group C', 'avg']\n",
    "gD = all_avg.loc['group D', 'avg']\n",
    "gE = all_avg.loc['group E', 'avg']\n",
    "data = [gA, gB, gC, gD, gE]\n",
    "\n",
    "fig1, ax1 = plt.subplots()\n",
    "ax1.pie(data, labels=labels, autopct='%1.1f%%', startangle=90)\n",
    "ax1.axis ('equal')\n",
    "plt.show()\n",
    "#This one was a mistake, ignore it. It's not useful."
   ]
  }
 ],
 "metadata": {
  "kernelspec": {
   "display_name": "Python 3",
   "language": "python",
   "name": "python3"
  },
  "language_info": {
   "codemirror_mode": {
    "name": "ipython",
    "version": 3
   },
   "file_extension": ".py",
   "mimetype": "text/x-python",
   "name": "python",
   "nbconvert_exporter": "python",
   "pygments_lexer": "ipython3",
   "version": "3.8.5"
  }
 },
 "nbformat": 4,
 "nbformat_minor": 4
}
